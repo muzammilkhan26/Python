{
 "cells": [
  {
   "cell_type": "markdown",
   "id": "52816f53-fc43-4261-9fd8-8e4192b4890e",
   "metadata": {},
   "source": [
    "## Dictionary in Dictionary"
   ]
  },
  {
   "cell_type": "code",
   "execution_count": 1,
   "id": "9ce6afbf-d4da-4332-8703-3c4b1d83b82d",
   "metadata": {},
   "outputs": [],
   "source": [
    "customer = {\n",
    "    \"customer 1\":{\n",
    "        \"Customer id\": 0,\n",
    "        \"Fist Name\" : \"Muzammil\",\n",
    "        \"Last Name\" : \"Khan\",\n",
    "        \"No\" : \"03123456789\"\n",
    "    },\n",
    "    \"customer 2\":{\n",
    "        \"Customer id\": 1,\n",
    "        \"Fist Name\" : \"Salman\",\n",
    "        \"Last Name\" : \"Khan\",\n",
    "        \"No\" : \"0395135746\"\n",
    "    },\n",
    "    \"customer 3\":{\n",
    "        \"Customer id\": 0,\n",
    "        \"Fist Name\" : \"Arham\",\n",
    "        \"Last Name\" : \"Abdullah\",\n",
    "        \"No\" : \"03963852741\"\n",
    "    }\n",
    "}"
   ]
  },
  {
   "cell_type": "code",
   "execution_count": 2,
   "id": "665849c8-605b-472e-b4ce-162a02198201",
   "metadata": {},
   "outputs": [
    {
     "data": {
      "text/plain": [
       "{'customer 1': {'Customer id': 0,\n",
       "  'Fist Name': 'Muzammil',\n",
       "  'Last Name': 'Khan',\n",
       "  'No': '03123456789'},\n",
       " 'customer 2': {'Customer id': 1,\n",
       "  'Fist Name': 'Salman',\n",
       "  'Last Name': 'Khan',\n",
       "  'No': '0395135746'},\n",
       " 'customer 3': {'Customer id': 0,\n",
       "  'Fist Name': 'Arham',\n",
       "  'Last Name': 'Abdullah',\n",
       "  'No': '03963852741'}}"
      ]
     },
     "execution_count": 2,
     "metadata": {},
     "output_type": "execute_result"
    }
   ],
   "source": [
    "customer"
   ]
  },
  {
   "cell_type": "code",
   "execution_count": 16,
   "id": "39a7337e-f33b-485d-9c37-fa1cfb83322d",
   "metadata": {},
   "outputs": [
    {
     "data": {
      "text/plain": [
       "['Muzammil', 'Khan', '03123456789']"
      ]
     },
     "execution_count": 16,
     "metadata": {},
     "output_type": "execute_result"
    }
   ],
   "source": [
    "list(customer['customer 1'].values())[1:]"
   ]
  },
  {
   "cell_type": "markdown",
   "id": "7bf186ed-2a9a-4f70-88ee-f648eec846c9",
   "metadata": {},
   "source": [
    "## Functions"
   ]
  },
  {
   "cell_type": "code",
   "execution_count": 17,
   "id": "f79bc9ce-063b-4a14-81bc-1e445fe9c78a",
   "metadata": {},
   "outputs": [
    {
     "data": {
      "text/plain": [
       "5"
      ]
     },
     "execution_count": 17,
     "metadata": {},
     "output_type": "execute_result"
    }
   ],
   "source": [
    "2+3"
   ]
  },
  {
   "cell_type": "code",
   "execution_count": 4,
   "id": "4267fee0-2dc2-418f-8dc5-cf7d19efd145",
   "metadata": {},
   "outputs": [
    {
     "name": "stdin",
     "output_type": "stream",
     "text": [
      "Enter Marks of eng:  50\n",
      "Enter Marks of math:  50\n",
      "Enter Marks of urdu:  50\n",
      "Enter Marks of islamiyat:  50\n"
     ]
    },
    {
     "name": "stdout",
     "output_type": "stream",
     "text": [
      "50.0\n"
     ]
    }
   ],
   "source": [
    "eng = int(input(\"Enter Marks of eng: \"))\n",
    "math = int(input(\"Enter Marks of math: \"))\n",
    "urdu = int(input(\"Enter Marks of urdu: \"))\n",
    "islm = int(input(\"Enter Marks of islamiyat: \"))\n",
    "\n",
    "total = 400\n",
    "bntain_marks = eng + math + urdu + islm\n",
    "prc = ( bntain_marks  * 100) / total\n",
    "\n",
    "print(prc)"
   ]
  },
  {
   "cell_type": "raw",
   "id": "a79aa496-ac7c-4c81-acca-b9cd95ec50c7",
   "metadata": {},
   "source": [
    "def <function_name>(<parametrs>):\n",
    "    <Function Body>"
   ]
  },
  {
   "cell_type": "code",
   "execution_count": 15,
   "id": "6d35cdfa-fa2e-4b8a-a0e5-3f79d6f0a5cb",
   "metadata": {},
   "outputs": [],
   "source": [
    "def cal_prc(eng, math, urdu, islm):\n",
    "    total = 400\n",
    "    bntain_marks = eng + math + urdu + islm\n",
    "    prc = ( bntain_marks  * 100) / total\n",
    "    print(prc)"
   ]
  },
  {
   "cell_type": "code",
   "execution_count": 6,
   "id": "fc39c7d6-d886-4888-a35b-c57f91f01ea9",
   "metadata": {},
   "outputs": [
    {
     "name": "stdout",
     "output_type": "stream",
     "text": [
      "None\n"
     ]
    }
   ],
   "source": [
    "print(cal_prc(60, 70, 80, 90)"
   ]
  },
  {
   "cell_type": "code",
   "execution_count": 11,
   "id": "4dc1cc8f-6ada-4d1f-aec2-17d39796910d",
   "metadata": {},
   "outputs": [
    {
     "name": "stdin",
     "output_type": "stream",
     "text": [
      "Enter Marks of eng:  95\n",
      "Enter Marks of math:  76\n",
      "Enter Marks of urdu:  94\n",
      "Enter Marks of islamiyat:  22\n"
     ]
    },
    {
     "name": "stdout",
     "output_type": "stream",
     "text": [
      "71.75\n"
     ]
    }
   ],
   "source": [
    "eng = int(input(\"Enter Marks of eng: \"))\n",
    "math = int(input(\"Enter Marks of math: \"))\n",
    "urdu = int(input(\"Enter Marks of urdu: \"))\n",
    "islm = int(input(\"Enter Marks of islamiyat: \"))\n",
    "\n",
    "cal_prc(eng, math, urdu, islm)"
   ]
  },
  {
   "cell_type": "code",
   "execution_count": 17,
   "id": "53b73433-c4cb-4213-997e-4b2cb4eddd00",
   "metadata": {},
   "outputs": [
    {
     "name": "stdout",
     "output_type": "stream",
     "text": [
      "71.75\n"
     ]
    }
   ],
   "source": [
    "cal_prc(eng, math, urdu, islm)"
   ]
  },
  {
   "cell_type": "code",
   "execution_count": 18,
   "id": "eea27c28-1e63-4b93-b38d-d005fcb86639",
   "metadata": {},
   "outputs": [
    {
     "name": "stdin",
     "output_type": "stream",
     "text": [
      "Enter Marks of eng:  95\n",
      "Enter Marks of math:  86\n",
      "Enter Marks of urdu:  76\n",
      "Enter Marks of islamiyat:  94\n"
     ]
    },
    {
     "name": "stdout",
     "output_type": "stream",
     "text": [
      "87.75\n"
     ]
    }
   ],
   "source": [
    "def cal_prc():\n",
    "    eng = int(input(\"Enter Marks of eng: \"))\n",
    "    math = int(input(\"Enter Marks of math: \"))\n",
    "    urdu = int(input(\"Enter Marks of urdu: \"))\n",
    "    islm = int(input(\"Enter Marks of islamiyat: \"))\n",
    "    total = 400\n",
    "    bntain_marks = eng + math + urdu + islm\n",
    "    prc = ( bntain_marks  * 100) / total\n",
    "    print(prc)\n",
    "\n",
    "cal_prc()"
   ]
  },
  {
   "cell_type": "code",
   "execution_count": 21,
   "id": "f27bf1d4-2f06-4945-a575-b3ac6c15c2fd",
   "metadata": {},
   "outputs": [],
   "source": [
    "def cal_area_squre():\n",
    "    lnth = int(input(\"Enter The Length: \"))\n",
    "    area = lnth * lnth\n",
    "    print(f\"Your length is {lnth}\")\n",
    "    print(f\"Your area of Lenght is {area}\")"
   ]
  },
  {
   "cell_type": "code",
   "execution_count": 23,
   "id": "a20c5e33-90f2-49de-995b-4174ebdf4b56",
   "metadata": {},
   "outputs": [
    {
     "name": "stdin",
     "output_type": "stream",
     "text": [
      "Enter The Length:  8\n"
     ]
    },
    {
     "name": "stdout",
     "output_type": "stream",
     "text": [
      "Your length is 8\n",
      "Your area of Lenght is 64\n"
     ]
    }
   ],
   "source": [
    "cal_area_squre()"
   ]
  },
  {
   "cell_type": "code",
   "execution_count": 2,
   "id": "8e4f3485-9046-404f-946b-16437a275440",
   "metadata": {},
   "outputs": [
    {
     "name": "stdin",
     "output_type": "stream",
     "text": [
      "Enter Marks of eng:  95\n",
      "Enter Marks of math:  75\n",
      "Enter Marks of urdu:  94\n",
      "Enter Marks of islamiyat:  25\n"
     ]
    },
    {
     "data": {
      "text/plain": [
       "72.25"
      ]
     },
     "execution_count": 2,
     "metadata": {},
     "output_type": "execute_result"
    }
   ],
   "source": [
    "def cal_prc():\n",
    "    eng = int(input(\"Enter Marks of eng: \"))\n",
    "    math = int(input(\"Enter Marks of math: \"))\n",
    "    urdu = int(input(\"Enter Marks of urdu: \"))\n",
    "    islm = int(input(\"Enter Marks of islamiyat: \"))\n",
    "    total = 400\n",
    "    bntain_marks = eng + math + urdu + islm\n",
    "    prc = ( bntain_marks  * 100) / total\n",
    "    return prc\n",
    "\n",
    "cal_prc()"
   ]
  },
  {
   "cell_type": "code",
   "execution_count": 10,
   "id": "d89def50-29d5-48c3-8c8a-60254e3d1171",
   "metadata": {},
   "outputs": [],
   "source": [
    "def comp_name(first_name, last_name, mid_name = ''):\n",
    "    return f\"{first_name} {mid_name} {last_name}\""
   ]
  },
  {
   "cell_type": "code",
   "execution_count": 11,
   "id": "94eac2fc-2382-408f-b5fd-e1e08b5669a1",
   "metadata": {},
   "outputs": [
    {
     "data": {
      "text/plain": [
       "'Muzammil  Khan'"
      ]
     },
     "execution_count": 11,
     "metadata": {},
     "output_type": "execute_result"
    }
   ],
   "source": [
    "comp_name(\"Muzammil\", \"Khan\")"
   ]
  },
  {
   "cell_type": "code",
   "execution_count": 12,
   "id": "7cfdefb4-cd77-4cf4-8a28-bfa6e2fc91c8",
   "metadata": {},
   "outputs": [
    {
     "name": "stdout",
     "output_type": "stream",
     "text": [
      "Muzammil  Khan\n"
     ]
    }
   ],
   "source": [
    "print(comp_name(\"Muzammil\", \"Khan\"))"
   ]
  },
  {
   "cell_type": "code",
   "execution_count": 13,
   "id": "592e47f6-8b21-4aab-90c3-c602a58d3c11",
   "metadata": {},
   "outputs": [
    {
     "data": {
      "text/plain": [
       "'Muhadmmad Muzammil Khan'"
      ]
     },
     "execution_count": 13,
     "metadata": {},
     "output_type": "execute_result"
    }
   ],
   "source": [
    "comp_name(\"Muhadmmad\", \"Khan\", \"Muzammil\")"
   ]
  },
  {
   "cell_type": "code",
   "execution_count": null,
   "id": "ff45f6ee-07e1-43bb-9570-0fdcd4d40116",
   "metadata": {},
   "outputs": [],
   "source": []
  }
 ],
 "metadata": {
  "kernelspec": {
   "display_name": "Python 3 (ipykernel)",
   "language": "python",
   "name": "python3"
  },
  "language_info": {
   "codemirror_mode": {
    "name": "ipython",
    "version": 3
   },
   "file_extension": ".py",
   "mimetype": "text/x-python",
   "name": "python",
   "nbconvert_exporter": "python",
   "pygments_lexer": "ipython3",
   "version": "3.11.5"
  }
 },
 "nbformat": 4,
 "nbformat_minor": 5
}
