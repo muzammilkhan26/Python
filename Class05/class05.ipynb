{
 "cells": [
  {
   "cell_type": "markdown",
   "id": "088d322e",
   "metadata": {},
   "source": [
    "## Concatenating text strings"
   ]
  },
  {
   "cell_type": "code",
   "execution_count": 1,
   "id": "44cb2fbb",
   "metadata": {},
   "outputs": [],
   "source": [
    "f_name = \"Muzammil\""
   ]
  },
  {
   "cell_type": "code",
   "execution_count": 2,
   "id": "7d3b8cb9",
   "metadata": {},
   "outputs": [],
   "source": [
    "l_name = \"Khan\""
   ]
  },
  {
   "cell_type": "code",
   "execution_count": 3,
   "id": "d9cb8458",
   "metadata": {},
   "outputs": [
    {
     "name": "stdout",
     "output_type": "stream",
     "text": [
      "MuzammilKhan\n"
     ]
    }
   ],
   "source": [
    "full_name = f_name + l_name\n",
    "print(full_name)"
   ]
  },
  {
   "cell_type": "code",
   "execution_count": 4,
   "id": "4ed15f06",
   "metadata": {},
   "outputs": [
    {
     "name": "stdout",
     "output_type": "stream",
     "text": [
      "Muzammil Khan\n"
     ]
    }
   ],
   "source": [
    "full_name = f_name + \" \" + l_name\n",
    "print(full_name)"
   ]
  },
  {
   "cell_type": "code",
   "execution_count": 5,
   "id": "1fc0103b",
   "metadata": {},
   "outputs": [
    {
     "name": "stdout",
     "output_type": "stream",
     "text": [
      "Hello, World!\n"
     ]
    }
   ],
   "source": [
    "greeting = \"Hello\"\n",
    "separators = \", \"\n",
    "addressee = \"World\"\n",
    "punc = \"!\"\n",
    "whole_greeting = greeting + separators + addressee + punc\n",
    "print(whole_greeting)"
   ]
  },
  {
   "cell_type": "code",
   "execution_count": 6,
   "id": "9d9a75dc",
   "metadata": {},
   "outputs": [
    {
     "data": {
      "text/plain": [
       "'Muzammil Khan'"
      ]
     },
     "execution_count": 6,
     "metadata": {},
     "output_type": "execute_result"
    }
   ],
   "source": [
    "f\"{f_name} {l_name}\""
   ]
  },
  {
   "cell_type": "code",
   "execution_count": 7,
   "id": "8551ce99",
   "metadata": {},
   "outputs": [
    {
     "name": "stdout",
     "output_type": "stream",
     "text": [
      "Muzammil Khan\n"
     ]
    }
   ],
   "source": [
    "print(f\"{f_name} {l_name}\")"
   ]
  },
  {
   "cell_type": "code",
   "execution_count": 8,
   "id": "45273564",
   "metadata": {},
   "outputs": [
    {
     "name": "stdout",
     "output_type": "stream",
     "text": [
      "My name is Muzammil Khan\n"
     ]
    }
   ],
   "source": [
    "print(f\"My name is {f_name} {l_name}\")"
   ]
  },
  {
   "cell_type": "code",
   "execution_count": null,
   "id": "a86e87b3",
   "metadata": {},
   "outputs": [],
   "source": []
  }
 ],
 "metadata": {
  "kernelspec": {
   "display_name": "Python 3 (ipykernel)",
   "language": "python",
   "name": "python3"
  },
  "language_info": {
   "codemirror_mode": {
    "name": "ipython",
    "version": 3
   },
   "file_extension": ".py",
   "mimetype": "text/x-python",
   "name": "python",
   "nbconvert_exporter": "python",
   "pygments_lexer": "ipython3",
   "version": "3.11.7"
  }
 },
 "nbformat": 4,
 "nbformat_minor": 5
}
