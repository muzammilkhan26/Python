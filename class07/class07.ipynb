{
 "cells": [
  {
   "cell_type": "code",
   "execution_count": 4,
   "id": "390a0a64-920a-4e28-aa50-f45fd4dec651",
   "metadata": {},
   "outputs": [
    {
     "name": "stdin",
     "output_type": "stream",
     "text": [
      "Enter Vegetable Type (Fresh/Not Fresh) Not Fresh\n",
      "Enter Vegetable price (High/Low) High\n"
     ]
    },
    {
     "name": "stdout",
     "output_type": "stream",
     "text": [
      "-5\n"
     ]
    }
   ],
   "source": [
    "imp = 0\n",
    "veg_type = input(\"Enter Vegetable Type (Fresh/Not Fresh)\")\n",
    "veg_price = input(\"Enter Vegetable price (High/Low)\")\n",
    "if veg_type == \"fresh\":\n",
    "    imp = 10\n",
    "elif veg_price == \"High\":\n",
    "    imp = -5\n",
    "else:\n",
    "    print(\"go to Next Shop\")\n",
    "\n",
    "print(imp)"
   ]
  },
  {
   "cell_type": "code",
   "execution_count": 13,
   "id": "f65eec01-6298-4892-8b08-4fb8a496d31f",
   "metadata": {},
   "outputs": [
    {
     "name": "stdin",
     "output_type": "stream",
     "text": [
      "Enter Number:  7\n"
     ]
    }
   ],
   "source": [
    "num = int(input(\"Enter Number: \"))"
   ]
  },
  {
   "cell_type": "code",
   "execution_count": 14,
   "id": "fccef7da-e93d-410e-8fe8-564c0d135b23",
   "metadata": {},
   "outputs": [
    {
     "data": {
      "text/plain": [
       "False"
      ]
     },
     "execution_count": 14,
     "metadata": {},
     "output_type": "execute_result"
    }
   ],
   "source": [
    "num > 10"
   ]
  },
  {
   "cell_type": "code",
   "execution_count": 15,
   "id": "88ab062d-df67-43f2-8173-cad8defce1ce",
   "metadata": {},
   "outputs": [
    {
     "data": {
      "text/plain": [
       "True"
      ]
     },
     "execution_count": 15,
     "metadata": {},
     "output_type": "execute_result"
    }
   ],
   "source": [
    "num != 5"
   ]
  },
  {
   "cell_type": "code",
   "execution_count": 16,
   "id": "7c6a30e2-8754-4516-882b-caab56881760",
   "metadata": {},
   "outputs": [
    {
     "data": {
      "text/plain": [
       "False"
      ]
     },
     "execution_count": 16,
     "metadata": {},
     "output_type": "execute_result"
    }
   ],
   "source": [
    "(num >10) and (num != 5)"
   ]
  },
  {
   "cell_type": "code",
   "execution_count": 21,
   "id": "f5b7650d-bd64-40d1-80ff-d0845c8573df",
   "metadata": {},
   "outputs": [
    {
     "name": "stdin",
     "output_type": "stream",
     "text": [
      "Entry Country Name:  India\n",
      "Enter Height:  5.2\n"
     ]
    },
    {
     "name": "stdout",
     "output_type": "stream",
     "text": [
      "Mahmood is Agreed\n"
     ]
    }
   ],
   "source": [
    "cnt = input(\"Entry Country Name: \")\n",
    "height = float(input(\"Enter Height: \"))\n",
    "\n",
    "\n",
    "if (cnt != \"Pakistan\") and (height > 5):\n",
    "    print(\"Mahmood is Agreed\")\n",
    "else:\n",
    "    print(\"Condition Not Matched\")"
   ]
  },
  {
   "cell_type": "code",
   "execution_count": 25,
   "id": "8598d4ee-113d-4136-85c7-97c82abdca1e",
   "metadata": {},
   "outputs": [
    {
     "data": {
      "text/plain": [
       "'\\nthis is multi\\nline comment\\n'"
      ]
     },
     "execution_count": 25,
     "metadata": {},
     "output_type": "execute_result"
    }
   ],
   "source": [
    "# Single Line comment\n",
    "'''\n",
    "this is multi\n",
    "line comment\n",
    "'''"
   ]
  },
  {
   "cell_type": "code",
   "execution_count": 26,
   "id": "5d1a6332-167b-466e-891f-66e55ef86c93",
   "metadata": {},
   "outputs": [
    {
     "name": "stdin",
     "output_type": "stream",
     "text": [
      "Enter num1:  3\n",
      "Enter num2:  3\n",
      "Enter num3:  10\n",
      "Enter num4:  5\n"
     ]
    },
    {
     "name": "stdout",
     "output_type": "stream",
     "text": [
      "all true\n"
     ]
    }
   ],
   "source": [
    "num1 = int(input(\"Enter num1: \"))\n",
    "num2 = int(input(\"Enter num2: \"))\n",
    "num3 = int(input(\"Enter num3: \"))\n",
    "num4 = int(input(\"Enter num4: \"))\n",
    "\n",
    "if num1 == num2:\n",
    "    if num3 > num4:\n",
    "        print(\"all true\")\n",
    "else:\n",
    "    print(\"Not True\")"
   ]
  },
  {
   "cell_type": "code",
   "execution_count": 29,
   "id": "4da2d6f0-33f9-4362-a5f6-b79a34899221",
   "metadata": {},
   "outputs": [
    {
     "name": "stdin",
     "output_type": "stream",
     "text": [
      "Enter num4:  85\n"
     ]
    },
    {
     "name": "stdout",
     "output_type": "stream",
     "text": [
      "85\n"
     ]
    }
   ],
   "source": [
    "print(int(input(\"Enter num4: \")))"
   ]
  },
  {
   "cell_type": "markdown",
   "id": "a9983d55-ac1c-409d-b4aa-8982c062b368",
   "metadata": {},
   "source": [
    "## List"
   ]
  },
  {
   "cell_type": "code",
   "execution_count": 2,
   "id": "f44d4e13-d76b-4058-ab6a-5ea7428186fd",
   "metadata": {},
   "outputs": [
    {
     "data": {
      "text/plain": [
       "['vlu1', 'vlu2', 'vlu3', 'vlu4']"
      ]
     },
     "execution_count": 2,
     "metadata": {},
     "output_type": "execute_result"
    }
   ],
   "source": [
    "lst_var = [\"vlu1\",\n",
    "           \"vlu2\",\n",
    "           \"vlu3\",\n",
    "           \"vlu4\"]\n",
    "lst_var"
   ]
  },
  {
   "cell_type": "code",
   "execution_count": 31,
   "id": "b26060ab-5dbc-44a7-8335-00a8b23042ed",
   "metadata": {},
   "outputs": [
    {
     "data": {
      "text/plain": [
       "list"
      ]
     },
     "execution_count": 31,
     "metadata": {},
     "output_type": "execute_result"
    }
   ],
   "source": [
    "type(lst_var)"
   ]
  },
  {
   "cell_type": "code",
   "execution_count": 32,
   "id": "d4438039-43f9-4e6e-802c-9b4773a09638",
   "metadata": {},
   "outputs": [
    {
     "data": {
      "text/plain": [
       "139805776425984"
      ]
     },
     "execution_count": 32,
     "metadata": {},
     "output_type": "execute_result"
    }
   ],
   "source": [
    "id(lst_var)"
   ]
  },
  {
   "cell_type": "code",
   "execution_count": 4,
   "id": "43d58026-4f6d-41d6-83ed-8663d04b28f5",
   "metadata": {},
   "outputs": [
    {
     "name": "stdout",
     "output_type": "stream",
     "text": [
      "this value is vlu3\n"
     ]
    }
   ],
   "source": [
    "print(f\"this value is {lst_var[2]}\")"
   ]
  },
  {
   "cell_type": "code",
   "execution_count": 7,
   "id": "d2739888-4831-4513-8410-62c936a5844d",
   "metadata": {},
   "outputs": [
    {
     "name": "stdout",
     "output_type": "stream",
     "text": [
      "this value is vlu4\n"
     ]
    }
   ],
   "source": [
    "print(f\"this value is {lst_var[-1]}\")"
   ]
  },
  {
   "cell_type": "code",
   "execution_count": 10,
   "id": "9392e6dc-5d1a-4fae-abec-0e81297aa3b4",
   "metadata": {},
   "outputs": [
    {
     "data": {
      "text/plain": [
       "['vlu1', 'vlu2', 'vlu3']"
      ]
     },
     "execution_count": 10,
     "metadata": {},
     "output_type": "execute_result"
    }
   ],
   "source": [
    "lst_var[:3]"
   ]
  },
  {
   "cell_type": "code",
   "execution_count": 11,
   "id": "4d62783e-dadb-4c73-8bfb-80e3bbd79c46",
   "metadata": {},
   "outputs": [
    {
     "data": {
      "text/plain": [
       "['vlu2', 'vlu3']"
      ]
     },
     "execution_count": 11,
     "metadata": {},
     "output_type": "execute_result"
    }
   ],
   "source": [
    "lst_var[1:3]"
   ]
  },
  {
   "cell_type": "code",
   "execution_count": 12,
   "id": "11d5a624-ce37-4fb1-9aec-f6cde565a49f",
   "metadata": {},
   "outputs": [
    {
     "data": {
      "text/plain": [
       "['vlu2', 'vlu3', 'vlu4']"
      ]
     },
     "execution_count": 12,
     "metadata": {},
     "output_type": "execute_result"
    }
   ],
   "source": [
    "lst_var[1:]"
   ]
  },
  {
   "cell_type": "code",
   "execution_count": 13,
   "id": "97d652ac-4e8b-4602-a813-701715eaccfc",
   "metadata": {},
   "outputs": [
    {
     "data": {
      "text/plain": [
       "['vlu1', 'vlu2', 'vlu3', 'vlu4']"
      ]
     },
     "execution_count": 13,
     "metadata": {},
     "output_type": "execute_result"
    }
   ],
   "source": [
    "lst_var[:]"
   ]
  },
  {
   "cell_type": "code",
   "execution_count": 14,
   "id": "0e139f3e-fb2f-48d4-81f2-96d3dd7ec59b",
   "metadata": {},
   "outputs": [
    {
     "data": {
      "text/plain": [
       "'u3'"
      ]
     },
     "execution_count": 14,
     "metadata": {},
     "output_type": "execute_result"
    }
   ],
   "source": [
    "lst_var[2][2:]"
   ]
  }
 ],
 "metadata": {
  "kernelspec": {
   "display_name": "Python 3 (ipykernel)",
   "language": "python",
   "name": "python3"
  },
  "language_info": {
   "codemirror_mode": {
    "name": "ipython",
    "version": 3
   },
   "file_extension": ".py",
   "mimetype": "text/x-python",
   "name": "python",
   "nbconvert_exporter": "python",
   "pygments_lexer": "ipython3",
   "version": "3.11.5"
  }
 },
 "nbformat": 4,
 "nbformat_minor": 5
}
