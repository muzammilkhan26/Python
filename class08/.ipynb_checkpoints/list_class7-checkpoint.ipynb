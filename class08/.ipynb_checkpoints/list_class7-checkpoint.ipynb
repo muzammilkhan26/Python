{
 "cells": [
  {
   "cell_type": "markdown",
   "id": "f7c583db-3329-45ef-a49c-34ca07230565",
   "metadata": {},
   "source": [
    "## List"
   ]
  },
  {
   "cell_type": "code",
   "execution_count": 2,
   "id": "c4738c5d-5bf7-45d0-8e2f-f2a1e997d0d7",
   "metadata": {},
   "outputs": [],
   "source": [
    "countries = [ \"Pakistan\", \"China\", \"Turkey\", \"Amarica\", \"India\"]"
   ]
  },
  {
   "cell_type": "code",
   "execution_count": 6,
   "id": "727763bb-4e14-4738-ac52-69b4321a5c20",
   "metadata": {},
   "outputs": [
    {
     "data": {
      "text/plain": [
       "['Pakistan', 'China', 'Turkey', 'Amarica', 'India']"
      ]
     },
     "execution_count": 6,
     "metadata": {},
     "output_type": "execute_result"
    }
   ],
   "source": [
    "countries"
   ]
  },
  {
   "cell_type": "code",
   "execution_count": 7,
   "id": "fa7b5510-57f7-4aca-993a-494efd46cd57",
   "metadata": {},
   "outputs": [],
   "source": [
    "bio_data = [\"Muzammil Khan\", 24, 5.2,]"
   ]
  },
  {
   "cell_type": "code",
   "execution_count": 8,
   "id": "704a7657-b17c-4688-99be-ab9eec0ab102",
   "metadata": {},
   "outputs": [
    {
     "data": {
      "text/plain": [
       "['Muzammil Khan', 24, 5.2]"
      ]
     },
     "execution_count": 8,
     "metadata": {},
     "output_type": "execute_result"
    }
   ],
   "source": [
    "bio_data"
   ]
  },
  {
   "cell_type": "markdown",
   "id": "5d515f03-fe71-4451-b6e9-752e286740b5",
   "metadata": {},
   "source": [
    "## Adding Value in ist"
   ]
  },
  {
   "cell_type": "code",
   "execution_count": 3,
   "id": "396f8d17-0fcd-4e99-aad4-837173c6e22d",
   "metadata": {},
   "outputs": [],
   "source": [
    "countries = countries + [\"Dubai\", \"Afganistan\"]"
   ]
  },
  {
   "cell_type": "code",
   "execution_count": 4,
   "id": "e1873fe9-7bd9-449b-a4be-d86e27cdb8fe",
   "metadata": {},
   "outputs": [
    {
     "data": {
      "text/plain": [
       "['Pakistan', 'China', 'Turkey', 'Amarica', 'India', 'Dubai', 'Afganistan']"
      ]
     },
     "execution_count": 4,
     "metadata": {},
     "output_type": "execute_result"
    }
   ],
   "source": [
    "countries"
   ]
  },
  {
   "cell_type": "code",
   "execution_count": 5,
   "id": "dab270b9-9ba1-425a-bebc-79dc54854781",
   "metadata": {},
   "outputs": [],
   "source": [
    "countries.append(\"New York\")"
   ]
  },
  {
   "cell_type": "code",
   "execution_count": 6,
   "id": "6936debf-00d1-42d9-a845-4beca6eba2fe",
   "metadata": {},
   "outputs": [
    {
     "data": {
      "text/plain": [
       "['Pakistan',\n",
       " 'China',\n",
       " 'Turkey',\n",
       " 'Amarica',\n",
       " 'India',\n",
       " 'Dubai',\n",
       " 'Afganistan',\n",
       " 'New York']"
      ]
     },
     "execution_count": 6,
     "metadata": {},
     "output_type": "execute_result"
    }
   ],
   "source": [
    "countries"
   ]
  },
  {
   "cell_type": "code",
   "execution_count": 7,
   "id": "f07e3723-71b0-4b9b-9b28-2ffa5a5a228c",
   "metadata": {},
   "outputs": [],
   "source": [
    "countries.insert(0, \"Saudia Arabia\")"
   ]
  },
  {
   "cell_type": "code",
   "execution_count": 8,
   "id": "f7554d90-dc6f-48a7-8c21-f9d8db18a406",
   "metadata": {},
   "outputs": [
    {
     "data": {
      "text/plain": [
       "['Saudia Arabia',\n",
       " 'Pakistan',\n",
       " 'China',\n",
       " 'Turkey',\n",
       " 'Amarica',\n",
       " 'India',\n",
       " 'Dubai',\n",
       " 'Afganistan',\n",
       " 'New York']"
      ]
     },
     "execution_count": 8,
     "metadata": {},
     "output_type": "execute_result"
    }
   ],
   "source": [
    "countries"
   ]
  },
  {
   "cell_type": "markdown",
   "id": "3e8b63cc-07a0-4bc8-a410-cc22fded52fd",
   "metadata": {},
   "source": [
    "## Silces"
   ]
  },
  {
   "cell_type": "code",
   "execution_count": 9,
   "id": "4475e6b4-5c55-456a-8499-1becd696ba1d",
   "metadata": {},
   "outputs": [
    {
     "data": {
      "text/plain": [
       "['Pakistan', 'China', 'Turkey']"
      ]
     },
     "execution_count": 9,
     "metadata": {},
     "output_type": "execute_result"
    }
   ],
   "source": [
    "countries[1:4]"
   ]
  },
  {
   "cell_type": "code",
   "execution_count": 10,
   "id": "b3804abb-186c-48d8-a194-64b3d53c4b2a",
   "metadata": {},
   "outputs": [
    {
     "data": {
      "text/plain": [
       "['Saudia Arabia', 'Pakistan', 'China', 'Turkey']"
      ]
     },
     "execution_count": 10,
     "metadata": {},
     "output_type": "execute_result"
    }
   ],
   "source": [
    "countries[:4]"
   ]
  },
  {
   "cell_type": "code",
   "execution_count": 11,
   "id": "151fb083-7a6b-4d65-8c2a-5f72e3a9f5f7",
   "metadata": {},
   "outputs": [
    {
     "data": {
      "text/plain": [
       "['Pakistan',\n",
       " 'China',\n",
       " 'Turkey',\n",
       " 'Amarica',\n",
       " 'India',\n",
       " 'Dubai',\n",
       " 'Afganistan',\n",
       " 'New York']"
      ]
     },
     "execution_count": 11,
     "metadata": {},
     "output_type": "execute_result"
    }
   ],
   "source": [
    "countries[1:]"
   ]
  },
  {
   "cell_type": "code",
   "execution_count": 12,
   "id": "825a1a0f-39d7-461c-b959-b63da01c803a",
   "metadata": {},
   "outputs": [
    {
     "data": {
      "text/plain": [
       "['Saudia Arabia',\n",
       " 'Pakistan',\n",
       " 'China',\n",
       " 'Turkey',\n",
       " 'Amarica',\n",
       " 'India',\n",
       " 'Dubai',\n",
       " 'Afganistan',\n",
       " 'New York']"
      ]
     },
     "execution_count": 12,
     "metadata": {},
     "output_type": "execute_result"
    }
   ],
   "source": [
    "countries[:]"
   ]
  },
  {
   "cell_type": "code",
   "execution_count": 13,
   "id": "44cb756e-a858-45d0-b694-729e1a05dd68",
   "metadata": {},
   "outputs": [
    {
     "data": {
      "text/plain": [
       "['New York']"
      ]
     },
     "execution_count": 13,
     "metadata": {},
     "output_type": "execute_result"
    }
   ],
   "source": [
    "countries[-1:]"
   ]
  },
  {
   "cell_type": "code",
   "execution_count": 14,
   "id": "318be4b2-d6e8-4881-a3e6-a7e376339597",
   "metadata": {},
   "outputs": [
    {
     "data": {
      "text/plain": [
       "['Saudia Arabia',\n",
       " 'Pakistan',\n",
       " 'China',\n",
       " 'Turkey',\n",
       " 'Amarica',\n",
       " 'India',\n",
       " 'Dubai',\n",
       " 'Afganistan']"
      ]
     },
     "execution_count": 14,
     "metadata": {},
     "output_type": "execute_result"
    }
   ],
   "source": [
    "countries[:-1]"
   ]
  },
  {
   "cell_type": "markdown",
   "id": "dde8b8c3-a3ad-4fbc-ae60-0a1ed7477a2c",
   "metadata": {},
   "source": [
    "## Deleting Value in List"
   ]
  },
  {
   "cell_type": "code",
   "execution_count": 9,
   "id": "bbe6953f-e07b-4782-b0f1-48d73989aacb",
   "metadata": {},
   "outputs": [
    {
     "data": {
      "text/plain": [
       "['Muzammil Khan', 24, 5.2]"
      ]
     },
     "execution_count": 9,
     "metadata": {},
     "output_type": "execute_result"
    }
   ],
   "source": [
    "bio_data"
   ]
  },
  {
   "cell_type": "code",
   "execution_count": 10,
   "id": "b1d2830a-2591-48f4-bf77-2cfb135aa814",
   "metadata": {},
   "outputs": [],
   "source": [
    "del bio_data[2]"
   ]
  },
  {
   "cell_type": "code",
   "execution_count": 11,
   "id": "de86c071-c812-4bc0-97c0-ad1225fc0b05",
   "metadata": {},
   "outputs": [
    {
     "data": {
      "text/plain": [
       "['Muzammil Khan', 24]"
      ]
     },
     "execution_count": 11,
     "metadata": {},
     "output_type": "execute_result"
    }
   ],
   "source": [
    "bio_data"
   ]
  },
  {
   "cell_type": "code",
   "execution_count": 12,
   "id": "0763d192-59ab-4639-bf78-f4b079db1998",
   "metadata": {},
   "outputs": [],
   "source": [
    "bio_data.remove(24)"
   ]
  },
  {
   "cell_type": "code",
   "execution_count": 13,
   "id": "a67f6a7a-6849-4e9b-aaa6-9b6c6c339c12",
   "metadata": {},
   "outputs": [
    {
     "data": {
      "text/plain": [
       "['Muzammil Khan']"
      ]
     },
     "execution_count": 13,
     "metadata": {},
     "output_type": "execute_result"
    }
   ],
   "source": [
    "bio_data"
   ]
  },
  {
   "cell_type": "code",
   "execution_count": 15,
   "id": "cf92833f-8e2b-48ac-b65e-2ce7d0a35605",
   "metadata": {},
   "outputs": [],
   "source": [
    "bio_data.append(24)"
   ]
  },
  {
   "cell_type": "code",
   "execution_count": 16,
   "id": "fae01043-6ab2-49c8-943a-f4a22ec47a12",
   "metadata": {},
   "outputs": [
    {
     "data": {
      "text/plain": [
       "['Muzammil Khan', 24]"
      ]
     },
     "execution_count": 16,
     "metadata": {},
     "output_type": "execute_result"
    }
   ],
   "source": [
    "bio_data"
   ]
  },
  {
   "cell_type": "markdown",
   "id": "c559d102-e02d-4d2f-97d8-abac5d450cf3",
   "metadata": {},
   "source": [
    "#### Popping Elements of List"
   ]
  },
  {
   "cell_type": "code",
   "execution_count": 17,
   "id": "ee347325-2a21-43b1-8ad7-d4ba80072a02",
   "metadata": {},
   "outputs": [],
   "source": [
    "tasks = [\"email Frank\", \"call Sarah\", \"meet with Zach\"]"
   ]
  },
  {
   "cell_type": "code",
   "execution_count": 19,
   "id": "108e8b85-8bb6-4464-abaa-eeb5d32d595e",
   "metadata": {},
   "outputs": [],
   "source": [
    "task_compltere = []"
   ]
  },
  {
   "cell_type": "code",
   "execution_count": 31,
   "id": "ea9f9241-9bb9-40e4-9a9e-ad81e8c476bd",
   "metadata": {},
   "outputs": [
    {
     "ename": "IndexError",
     "evalue": "pop from empty list",
     "output_type": "error",
     "traceback": [
      "\u001b[0;31m---------------------------------------------------------------------------\u001b[0m",
      "\u001b[0;31mIndexError\u001b[0m                                Traceback (most recent call last)",
      "Cell \u001b[0;32mIn[31], line 1\u001b[0m\n\u001b[0;32m----> 1\u001b[0m task_compltere \u001b[38;5;241m=\u001b[39m task_compltere \u001b[38;5;241m+\u001b[39m \u001b[38;5;28mlist\u001b[39m(\u001b[43mtasks\u001b[49m\u001b[38;5;241;43m.\u001b[39;49m\u001b[43mpop\u001b[49m\u001b[43m(\u001b[49m\u001b[43m)\u001b[49m)\n",
      "\u001b[0;31mIndexError\u001b[0m: pop from empty list"
     ]
    }
   ],
   "source": [
    "task_compltere = task_compltere + list(tasks.pop(1))"
   ]
  },
  {
   "cell_type": "code",
   "execution_count": 6,
   "id": "15904c4e-239c-4f72-9ba3-03d2618ee360",
   "metadata": {},
   "outputs": [],
   "source": [
    "tasks = [\"email Arham\", \"call Hammad\", \"meet with Zach\"]"
   ]
  },
  {
   "cell_type": "code",
   "execution_count": 7,
   "id": "5f7bcd71-59b6-4d3e-99fb-3dcbfa36b8b2",
   "metadata": {},
   "outputs": [],
   "source": [
    "task_complete = []"
   ]
  },
  {
   "cell_type": "code",
   "execution_count": 8,
   "id": "18a782c4-4e05-483b-9465-98b367e5112d",
   "metadata": {},
   "outputs": [],
   "source": [
    "task_complete.insert(0, tasks.pop(1))"
   ]
  },
  {
   "cell_type": "code",
   "execution_count": 9,
   "id": "eba2807f-f73c-4982-a0c2-18fb5075ad50",
   "metadata": {},
   "outputs": [
    {
     "data": {
      "text/plain": [
       "['call Hammad']"
      ]
     },
     "execution_count": 9,
     "metadata": {},
     "output_type": "execute_result"
    }
   ],
   "source": [
    "task_complete"
   ]
  },
  {
   "cell_type": "code",
   "execution_count": 11,
   "id": "6ea7e0dc-15df-46c3-ac75-5add9b28c3b8",
   "metadata": {},
   "outputs": [
    {
     "data": {
      "text/plain": [
       "['Pakistan', 'China', 'Turkey', 'Amarica', 'India']"
      ]
     },
     "execution_count": 11,
     "metadata": {},
     "output_type": "execute_result"
    }
   ],
   "source": [
    "countries"
   ]
  },
  {
   "cell_type": "code",
   "execution_count": 12,
   "id": "51fb27de-f5e7-4213-9b3d-fde8c0aa70f7",
   "metadata": {},
   "outputs": [],
   "source": [
    "countries[1] = \"New\""
   ]
  },
  {
   "cell_type": "code",
   "execution_count": 13,
   "id": "7fc62ce4-2091-4aa0-b829-6c65ea25905b",
   "metadata": {},
   "outputs": [
    {
     "data": {
      "text/plain": [
       "['Pakistan', 'New', 'Turkey', 'Amarica', 'India']"
      ]
     },
     "execution_count": 13,
     "metadata": {},
     "output_type": "execute_result"
    }
   ],
   "source": [
    "countries"
   ]
  },
  {
   "cell_type": "markdown",
   "id": "efd20d22-cde8-4a0d-a67a-c9981288627d",
   "metadata": {},
   "source": [
    "## Tuples"
   ]
  },
  {
   "cell_type": "code",
   "execution_count": 14,
   "id": "fd092fa2-8c54-44ae-ac93-eeab127e0c12",
   "metadata": {},
   "outputs": [],
   "source": [
    "tupe_bio_data = (\"Muzammil\", \"Pakistani\", 24, 5.8, True, \"03192025919\")"
   ]
  },
  {
   "cell_type": "code",
   "execution_count": 15,
   "id": "f961f399-e0bd-4b0a-a63d-c9daa8e5edc4",
   "metadata": {},
   "outputs": [
    {
     "data": {
      "text/plain": [
       "('Muzammil', 'Pakistani', 24, 5.8, True, '03192025919')"
      ]
     },
     "execution_count": 15,
     "metadata": {},
     "output_type": "execute_result"
    }
   ],
   "source": [
    "tupe_bio_data"
   ]
  },
  {
   "cell_type": "code",
   "execution_count": 16,
   "id": "77746f5c-0de3-4d59-863f-64683b075e1d",
   "metadata": {},
   "outputs": [
    {
     "data": {
      "text/plain": [
       "tuple"
      ]
     },
     "execution_count": 16,
     "metadata": {},
     "output_type": "execute_result"
    }
   ],
   "source": [
    "type(tupe_bio_data)"
   ]
  },
  {
   "cell_type": "code",
   "execution_count": 17,
   "id": "ef8e65a6-14f4-45f8-8fd6-0babcff7e3ee",
   "metadata": {},
   "outputs": [
    {
     "data": {
      "text/plain": [
       "('Pakistani', 24, 5.8, True, '03192025919')"
      ]
     },
     "execution_count": 17,
     "metadata": {},
     "output_type": "execute_result"
    }
   ],
   "source": [
    "tupe_bio_data[1:]"
   ]
  },
  {
   "cell_type": "markdown",
   "id": "f018eb3e-e139-4819-8cca-890e46f1f872",
   "metadata": {},
   "source": [
    "## For Loops"
   ]
  },
  {
   "cell_type": "code",
   "execution_count": 7,
   "id": "f8dd60d3-8766-46a0-ac1d-4f88785de5c5",
   "metadata": {},
   "outputs": [
    {
     "data": {
      "text/plain": [
       "['Pakistan', 'China', 'Turkey', 'Amarica', 'India']"
      ]
     },
     "execution_count": 7,
     "metadata": {},
     "output_type": "execute_result"
    }
   ],
   "source": [
    "countries"
   ]
  },
  {
   "cell_type": "code",
   "execution_count": 8,
   "id": "c92d0ab6-0d24-46fa-90aa-bd430f6b4de0",
   "metadata": {},
   "outputs": [
    {
     "name": "stdout",
     "output_type": "stream",
     "text": [
      "Pakistan\n",
      "China\n",
      "Turkey\n",
      "Amarica\n",
      "India\n"
     ]
    }
   ],
   "source": [
    "for temp in countries:\n",
    "    print(temp)"
   ]
  },
  {
   "cell_type": "code",
   "execution_count": 6,
   "id": "51bee1e7-f2a5-4d96-b33a-eccc9be70a4a",
   "metadata": {},
   "outputs": [
    {
     "name": "stdout",
     "output_type": "stream",
     "text": [
      "1600\n",
      "cycle End\n",
      "\n",
      "1700\n",
      "cycle End\n",
      "\n",
      "1800\n",
      "cycle End\n",
      "\n",
      "1900\n",
      "cycle End\n",
      "\n",
      "2000\n",
      "cycle End\n",
      "\n"
     ]
    }
   ],
   "source": [
    "for temp in [1600, 1700, 1800, 1900, 2000]:\n",
    "    print(temp)\n",
    "    print(\"cycle End\\n\")"
   ]
  },
  {
   "cell_type": "code",
   "execution_count": 10,
   "id": "4146cb27-7272-4010-be44-4b6a61ccfd63",
   "metadata": {},
   "outputs": [
    {
     "name": "stdout",
     "output_type": "stream",
     "text": [
      "Pakistan Founded\n"
     ]
    }
   ],
   "source": [
    "for temp in countries:\n",
    "    if temp == \"Pakistan\":\n",
    "        print(\"Pakistan Founded\")"
   ]
  },
  {
   "cell_type": "markdown",
   "id": "f9283670-7afa-44dc-8ff9-b034af92bedd",
   "metadata": {},
   "source": [
    "## Rang in for Loop"
   ]
  },
  {
   "cell_type": "code",
   "execution_count": 18,
   "id": "b56f2b31-caa6-45d5-8264-c0e7fecf9898",
   "metadata": {},
   "outputs": [
    {
     "name": "stdout",
     "output_type": "stream",
     "text": [
      "0\n",
      "2\n",
      "4\n",
      "6\n",
      "8\n"
     ]
    }
   ],
   "source": [
    "for i in range(0,10, 2):\n",
    "    print(i)"
   ]
  },
  {
   "cell_type": "code",
   "execution_count": 22,
   "id": "82d2f4f3-a467-4a6b-8e0f-881d21bd5710",
   "metadata": {},
   "outputs": [],
   "source": [
    "cleanest_cities = [\"Cheyenne\", \"Santa Fe\", \"Tucson\", \"Great Falls\", \"Honolulu\"]\n",
    "a_clean_city = \"\""
   ]
  },
  {
   "cell_type": "code",
   "execution_count": 24,
   "id": "c69e667c-68dc-4a92-82e0-d46ca20c09da",
   "metadata": {},
   "outputs": [
    {
     "name": "stdout",
     "output_type": "stream",
     "text": [
      "It's one of the cleanest cities\n"
     ]
    }
   ],
   "source": [
    "for city_to_check in cleanest_cities:\n",
    "    if city_to_check == a_clean_city:\n",
    "        print(\"It's one of the cleanest cities\")"
   ]
  }
 ],
 "metadata": {
  "kernelspec": {
   "display_name": "Python 3 (ipykernel)",
   "language": "python",
   "name": "python3"
  },
  "language_info": {
   "codemirror_mode": {
    "name": "ipython",
    "version": 3
   },
   "file_extension": ".py",
   "mimetype": "text/x-python",
   "name": "python",
   "nbconvert_exporter": "python",
   "pygments_lexer": "ipython3",
   "version": "3.11.5"
  }
 },
 "nbformat": 4,
 "nbformat_minor": 5
}
