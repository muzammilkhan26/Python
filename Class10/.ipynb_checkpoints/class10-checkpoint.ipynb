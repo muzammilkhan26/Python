{
 "cells": [
  {
   "cell_type": "markdown",
   "id": "9f594e6e-5933-438a-8a1d-bedb60ea7c27",
   "metadata": {},
   "source": [
    "## Dictionary in Python"
   ]
  },
  {
   "cell_type": "code",
   "execution_count": 58,
   "id": "88c8a42d-6096-4d37-bec7-566db73a216f",
   "metadata": {},
   "outputs": [],
   "source": [
    "customer1 = {\"First_name\": \"Muzammil\",\n",
    "             \"Last_Name\":\"Khan\",\n",
    "             \"Number\" :\"03192025919\",\n",
    "            \"Weight\":52,\n",
    "            \"age\":24}"
   ]
  },
  {
   "cell_type": "code",
   "execution_count": 34,
   "id": "5e27dc7f-4086-4b28-a1c6-774326be8e14",
   "metadata": {},
   "outputs": [
    {
     "data": {
      "text/plain": [
       "{'First_name': 'Muzammil',\n",
       " 'Last_Name': 'Khan',\n",
       " 'Number': '03192025919',\n",
       " 'Weight': 52,\n",
       " 'age': 24}"
      ]
     },
     "execution_count": 34,
     "metadata": {},
     "output_type": "execute_result"
    }
   ],
   "source": [
    "customer1"
   ]
  },
  {
   "cell_type": "code",
   "execution_count": 35,
   "id": "8dca8330-402c-4efd-a53a-f55bf9051280",
   "metadata": {},
   "outputs": [
    {
     "data": {
      "text/plain": [
       "dict"
      ]
     },
     "execution_count": 35,
     "metadata": {},
     "output_type": "execute_result"
    }
   ],
   "source": [
    "type(customer1)"
   ]
  },
  {
   "cell_type": "code",
   "execution_count": 36,
   "id": "49a89aa2-cdb0-4c81-8d0c-57a759cffea4",
   "metadata": {},
   "outputs": [
    {
     "data": {
      "text/plain": [
       "140045128689664"
      ]
     },
     "execution_count": 36,
     "metadata": {},
     "output_type": "execute_result"
    }
   ],
   "source": [
    "id(customer1)"
   ]
  },
  {
   "cell_type": "code",
   "execution_count": 37,
   "id": "5275bdfd-1508-4479-b2b1-78c321ae4840",
   "metadata": {},
   "outputs": [],
   "source": [
    "customer1['Number'] = '03202485046'"
   ]
  },
  {
   "cell_type": "code",
   "execution_count": 38,
   "id": "740b1ff0-6d8f-4be4-95fc-d4148fa4ab10",
   "metadata": {},
   "outputs": [
    {
     "data": {
      "text/plain": [
       "{'First_name': 'Muzammil',\n",
       " 'Last_Name': 'Khan',\n",
       " 'Number': '03202485046',\n",
       " 'Weight': 52,\n",
       " 'age': 24}"
      ]
     },
     "execution_count": 38,
     "metadata": {},
     "output_type": "execute_result"
    }
   ],
   "source": [
    "customer1"
   ]
  },
  {
   "cell_type": "code",
   "execution_count": 39,
   "id": "0f60d175-5bca-4567-8f3b-51ca54341dcd",
   "metadata": {},
   "outputs": [],
   "source": [
    "del(customer1['Number'])"
   ]
  },
  {
   "cell_type": "code",
   "execution_count": 40,
   "id": "b99ea381-58ea-4a76-a2ae-d0c1cf359dd0",
   "metadata": {},
   "outputs": [
    {
     "data": {
      "text/plain": [
       "{'First_name': 'Muzammil', 'Last_Name': 'Khan', 'Weight': 52, 'age': 24}"
      ]
     },
     "execution_count": 40,
     "metadata": {},
     "output_type": "execute_result"
    }
   ],
   "source": [
    "customer1"
   ]
  },
  {
   "cell_type": "code",
   "execution_count": 41,
   "id": "d46f6dfe-24a2-48db-8315-b53e2eac59f4",
   "metadata": {},
   "outputs": [],
   "source": [
    "new_dec = customer1.copy()"
   ]
  },
  {
   "cell_type": "code",
   "execution_count": 42,
   "id": "ba0a6e8e-9ae9-42a0-91fd-e49fa426b4ca",
   "metadata": {},
   "outputs": [],
   "source": [
    "customer1['Number'] = '03202485046'"
   ]
  },
  {
   "cell_type": "code",
   "execution_count": 43,
   "id": "8c19228c-abda-4831-b98b-dc8efca7b4c8",
   "metadata": {},
   "outputs": [
    {
     "data": {
      "text/plain": [
       "{'First_name': 'Muzammil',\n",
       " 'Last_Name': 'Khan',\n",
       " 'Weight': 52,\n",
       " 'age': 24,\n",
       " 'Number': '03202485046'}"
      ]
     },
     "execution_count": 43,
     "metadata": {},
     "output_type": "execute_result"
    }
   ],
   "source": [
    "customer1"
   ]
  },
  {
   "cell_type": "code",
   "execution_count": 44,
   "id": "f5158095-712a-4238-b0ef-5f5d371de2bd",
   "metadata": {},
   "outputs": [
    {
     "data": {
      "text/plain": [
       "{'First_name': 'Muzammil', 'Last_Name': 'Khan', 'Weight': 52, 'age': 24}"
      ]
     },
     "execution_count": 44,
     "metadata": {},
     "output_type": "execute_result"
    }
   ],
   "source": [
    "new_dec"
   ]
  },
  {
   "cell_type": "code",
   "execution_count": 45,
   "id": "146047b8-0f4a-4c7f-81ac-cf3ff1e4d10d",
   "metadata": {},
   "outputs": [
    {
     "data": {
      "text/plain": [
       "dict_items([('First_name', 'Muzammil'), ('Last_Name', 'Khan'), ('Weight', 52), ('age', 24), ('Number', '03202485046')])"
      ]
     },
     "execution_count": 45,
     "metadata": {},
     "output_type": "execute_result"
    }
   ],
   "source": [
    "customer1.items() # convert dict to list of tuples"
   ]
  },
  {
   "cell_type": "code",
   "execution_count": 46,
   "id": "0548254b-1261-4d2e-9a56-9efa9b6cfd34",
   "metadata": {},
   "outputs": [
    {
     "name": "stdout",
     "output_type": "stream",
     "text": [
      "First_name --> Muzammil\n",
      "Last_Name --> Khan\n",
      "Weight --> 52\n",
      "age --> 24\n",
      "Number --> 03202485046\n"
     ]
    }
   ],
   "source": [
    "for key, value in customer1.items():\n",
    "    print(f\"{key} --> {value}\")"
   ]
  },
  {
   "cell_type": "code",
   "execution_count": 47,
   "id": "23cd6034-6df2-4192-9d33-7b8c67ada1d7",
   "metadata": {},
   "outputs": [
    {
     "name": "stdout",
     "output_type": "stream",
     "text": [
      "('First_name', 'Muzammil') -->\n",
      "('Last_Name', 'Khan') -->\n",
      "('Weight', 52) -->\n",
      "('age', 24) -->\n",
      "('Number', '03202485046') -->\n"
     ]
    }
   ],
   "source": [
    "for key in customer1.items():\n",
    "    print(f\"{key} -->\")"
   ]
  },
  {
   "cell_type": "code",
   "execution_count": 57,
   "id": "8acc7fb2-b85c-4960-83a9-e595e9015264",
   "metadata": {},
   "outputs": [
    {
     "name": "stdout",
     "output_type": "stream",
     "text": [
      "First_name\n",
      "Last_Name\n",
      "Weight\n",
      "age\n",
      "Number\n"
     ]
    }
   ],
   "source": [
    "for key in customer1.items():\n",
    "    print(f\"{key[0]}\")"
   ]
  },
  {
   "cell_type": "code",
   "execution_count": 50,
   "id": "b7b3fefc-093b-4842-89f7-24056cbc4d11",
   "metadata": {},
   "outputs": [
    {
     "data": {
      "text/plain": [
       "dict_keys(['First_name', 'Last_Name', 'Weight', 'age', 'Number'])"
      ]
     },
     "execution_count": 50,
     "metadata": {},
     "output_type": "execute_result"
    }
   ],
   "source": [
    "customer1.keys()"
   ]
  },
  {
   "cell_type": "code",
   "execution_count": 54,
   "id": "513c9d77-dd62-4cbe-9a68-e7cf42e13159",
   "metadata": {},
   "outputs": [
    {
     "data": {
      "text/plain": [
       "dict_values(['Muzammil', 'Khan', 52, 24, '03202485046'])"
      ]
     },
     "execution_count": 54,
     "metadata": {},
     "output_type": "execute_result"
    }
   ],
   "source": [
    "customer1.values()"
   ]
  },
  {
   "cell_type": "code",
   "execution_count": 63,
   "id": "b185732c-a5af-434b-8b67-9ff425782e5a",
   "metadata": {},
   "outputs": [
    {
     "data": {
      "text/plain": [
       "{'Number': '03202485046', '03202485046': '03202485046'}"
      ]
     },
     "execution_count": 63,
     "metadata": {},
     "output_type": "execute_result"
    }
   ],
   "source": [
    "customer1.fromkeys()"
   ]
  },
  {
   "cell_type": "code",
   "execution_count": 65,
   "id": "3d1b1c2c-2699-4c62-bfa6-3b8e6581f703",
   "metadata": {},
   "outputs": [
    {
     "data": {
      "text/plain": [
       "'Muzammil'"
      ]
     },
     "execution_count": 65,
     "metadata": {},
     "output_type": "execute_result"
    }
   ],
   "source": [
    "customer1.get(\"First_name\") # key k zariye us ki value dekh sakty hian"
   ]
  },
  {
   "cell_type": "code",
   "execution_count": 66,
   "id": "7e849d27-19ea-461e-8e84-3115dd3d3888",
   "metadata": {},
   "outputs": [
    {
     "data": {
      "text/plain": [
       "'Not Found'"
      ]
     },
     "execution_count": 66,
     "metadata": {},
     "output_type": "execute_result"
    }
   ],
   "source": [
    "customer1.get(\"First_nae\", \"Not Found\")"
   ]
  },
  {
   "cell_type": "code",
   "execution_count": 67,
   "id": "293c7cfd-fc42-4d5c-bbff-b1d4338abe01",
   "metadata": {},
   "outputs": [
    {
     "data": {
      "text/plain": [
       "'Muzammil'"
      ]
     },
     "execution_count": 67,
     "metadata": {},
     "output_type": "execute_result"
    }
   ],
   "source": [
    "customer1.get(\"First_name\", \"Not Found\")"
   ]
  },
  {
   "cell_type": "code",
   "execution_count": 70,
   "id": "e83f5bfa-aa31-4208-89c3-a926118cbe58",
   "metadata": {},
   "outputs": [],
   "source": [
    "dict_with_key_num = {1: \"Muzammil\",\n",
    "                     2: \"Khan\",\n",
    "                     3: \"03192025919\",\n",
    "                     4: 54,\n",
    "                     5: 24}"
   ]
  },
  {
   "cell_type": "code",
   "execution_count": 71,
   "id": "5c344200-6ab0-46ec-a341-30d44b29d230",
   "metadata": {},
   "outputs": [
    {
     "data": {
      "text/plain": [
       "{1: 'Muzammil', 2: 'Khan', 3: '03192025919', 4: 54, 5: 24}"
      ]
     },
     "execution_count": 71,
     "metadata": {},
     "output_type": "execute_result"
    }
   ],
   "source": [
    "dict_with_key_num"
   ]
  },
  {
   "cell_type": "code",
   "execution_count": 72,
   "id": "1e6f4dd7-3297-4f3b-a6eb-b17039b8a423",
   "metadata": {},
   "outputs": [],
   "source": [
    "dict_with_key_num[6] = \"Pakistan\""
   ]
  },
  {
   "cell_type": "code",
   "execution_count": 73,
   "id": "dcb91f6b-65e0-4028-abaa-a2018c7c0429",
   "metadata": {},
   "outputs": [
    {
     "data": {
      "text/plain": [
       "{1: 'Muzammil', 2: 'Khan', 3: '03192025919', 4: 54, 5: 24, 6: 'Pakistan'}"
      ]
     },
     "execution_count": 73,
     "metadata": {},
     "output_type": "execute_result"
    }
   ],
   "source": [
    "dict_with_key_num"
   ]
  },
  {
   "cell_type": "code",
   "execution_count": 74,
   "id": "eaff5c9d-093e-4650-bac5-b7fdaf8b105c",
   "metadata": {},
   "outputs": [],
   "source": [
    "del(dict_with_key_num[6])"
   ]
  },
  {
   "cell_type": "code",
   "execution_count": 75,
   "id": "17da48e7-a98e-4df7-b95a-6c42b9e9e0bb",
   "metadata": {},
   "outputs": [
    {
     "data": {
      "text/plain": [
       "{1: 'Muzammil', 2: 'Khan', 3: '03192025919', 4: 54, 5: 24}"
      ]
     },
     "execution_count": 75,
     "metadata": {},
     "output_type": "execute_result"
    }
   ],
   "source": [
    "dict_with_key_num"
   ]
  },
  {
   "cell_type": "code",
   "execution_count": 76,
   "id": "f2770a5d-847b-4d27-82cd-dfb12b2a546e",
   "metadata": {},
   "outputs": [],
   "source": [
    "dict_with_key_num[5] = \"12345678912\""
   ]
  },
  {
   "cell_type": "code",
   "execution_count": 79,
   "id": "7e6d191a-f7c2-405a-9a97-c9a0de6d1e65",
   "metadata": {},
   "outputs": [
    {
     "data": {
      "text/plain": [
       "{1: 'Muzammil', 2: 'Khan', 3: '03192025919', 4: 54, 5: '12345678912'}"
      ]
     },
     "execution_count": 79,
     "metadata": {},
     "output_type": "execute_result"
    }
   ],
   "source": [
    "dict_with_key_num"
   ]
  },
  {
   "cell_type": "code",
   "execution_count": 82,
   "id": "505e6616-223e-407d-a715-5d453dd798f6",
   "metadata": {},
   "outputs": [],
   "source": [
    "pc_dect = {\"Processor\": \"core i5\",\n",
    "           \"RAM\": \"4GB\",\n",
    "           \"Hrad Disk Space\": \"128GB SSD\",\n",
    "           \"Graphit Card\": \"2 GB\",}"
   ]
  },
  {
   "cell_type": "code",
   "execution_count": 83,
   "id": "223ecff5-7353-440d-b895-d7aa3d6f49e8",
   "metadata": {},
   "outputs": [
    {
     "data": {
      "text/plain": [
       "{'Processor': 'core i5',\n",
       " 'RAM': '4GB',\n",
       " 'Hrad Disk Space': '128GB SSD',\n",
       " 'Graphit Card': '2 GB'}"
      ]
     },
     "execution_count": 83,
     "metadata": {},
     "output_type": "execute_result"
    }
   ],
   "source": [
    "pc_dect"
   ]
  },
  {
   "cell_type": "code",
   "execution_count": 84,
   "id": "89246a88-0513-458c-ad41-1564abae1b20",
   "metadata": {},
   "outputs": [],
   "source": [
    "pc_dect[\"RAM\"] = \"8GB\""
   ]
  },
  {
   "cell_type": "code",
   "execution_count": 85,
   "id": "3d3099fa-2fea-4139-874c-7d58dd0c8e72",
   "metadata": {},
   "outputs": [
    {
     "data": {
      "text/plain": [
       "{'Processor': 'core i5',\n",
       " 'RAM': '8GB',\n",
       " 'Hrad Disk Space': '128GB SSD',\n",
       " 'Graphit Card': '2 GB'}"
      ]
     },
     "execution_count": 85,
     "metadata": {},
     "output_type": "execute_result"
    }
   ],
   "source": [
    "pc_dect"
   ]
  },
  {
   "cell_type": "code",
   "execution_count": 86,
   "id": "73b7d83d-3777-476a-b8a7-3ae805d09846",
   "metadata": {},
   "outputs": [],
   "source": [
    "pc_dect[\"Processor Gen\"] = \"2 Gen\""
   ]
  },
  {
   "cell_type": "code",
   "execution_count": 87,
   "id": "bf8d2713-4c9d-43f5-8034-ca9e8df5ef11",
   "metadata": {},
   "outputs": [
    {
     "data": {
      "text/plain": [
       "{'Processor': 'core i5',\n",
       " 'RAM': '8GB',\n",
       " 'Hrad Disk Space': '128GB SSD',\n",
       " 'Graphit Card': '2 GB',\n",
       " 'Processor Gen': '2 Gen'}"
      ]
     },
     "execution_count": 87,
     "metadata": {},
     "output_type": "execute_result"
    }
   ],
   "source": [
    "pc_dect"
   ]
  },
  {
   "cell_type": "code",
   "execution_count": 88,
   "id": "42d11d31-00a0-4d0d-8d66-4da5fb381671",
   "metadata": {},
   "outputs": [],
   "source": [
    "del(pc_dect[\"Processor Gen\"])"
   ]
  },
  {
   "cell_type": "code",
   "execution_count": 89,
   "id": "728a52cf-fb00-49cf-9285-f60f318ca463",
   "metadata": {},
   "outputs": [
    {
     "data": {
      "text/plain": [
       "{'Processor': 'core i5',\n",
       " 'RAM': '8GB',\n",
       " 'Hrad Disk Space': '128GB SSD',\n",
       " 'Graphit Card': '2 GB'}"
      ]
     },
     "execution_count": 89,
     "metadata": {},
     "output_type": "execute_result"
    }
   ],
   "source": [
    "pc_dect"
   ]
  },
  {
   "cell_type": "code",
   "execution_count": 90,
   "id": "43637abe-f932-454c-bbdf-697d4e012eb5",
   "metadata": {},
   "outputs": [
    {
     "data": {
      "text/plain": [
       "'8GB'"
      ]
     },
     "execution_count": 90,
     "metadata": {},
     "output_type": "execute_result"
    }
   ],
   "source": [
    "pc_dect.get(\"RAM\")"
   ]
  },
  {
   "cell_type": "code",
   "execution_count": 92,
   "id": "74905b25-7183-455a-bff2-e1d8aa4630e8",
   "metadata": {},
   "outputs": [
    {
     "data": {
      "text/plain": [
       "dict_items([('Processor', 'core i5'), ('RAM', '8GB'), ('Hrad Disk Space', '128GB SSD'), ('Graphit Card', '2 GB')])"
      ]
     },
     "execution_count": 92,
     "metadata": {},
     "output_type": "execute_result"
    }
   ],
   "source": [
    "pc_dect.items()"
   ]
  },
  {
   "cell_type": "code",
   "execution_count": 93,
   "id": "02518e78-fd2a-4599-b2c5-b5f55aebe8a1",
   "metadata": {},
   "outputs": [
    {
     "data": {
      "text/plain": [
       "dict_keys(['Processor', 'RAM', 'Hrad Disk Space', 'Graphit Card'])"
      ]
     },
     "execution_count": 93,
     "metadata": {},
     "output_type": "execute_result"
    }
   ],
   "source": [
    "pc_dect.keys()"
   ]
  },
  {
   "cell_type": "code",
   "execution_count": 94,
   "id": "7d1d1462-bfe1-4235-b5c5-4a9f0af5f7ac",
   "metadata": {},
   "outputs": [
    {
     "data": {
      "text/plain": [
       "dict_values(['core i5', '8GB', '128GB SSD', '2 GB'])"
      ]
     },
     "execution_count": 94,
     "metadata": {},
     "output_type": "execute_result"
    }
   ],
   "source": [
    "pc_dect.values()"
   ]
  },
  {
   "cell_type": "raw",
   "id": "97071af5-8944-40c7-9d93-30d1d12ed768",
   "metadata": {},
   "source": [
    "fromkeys() function ka asal maqsad ek naya dictionary banane mein hai jismein aap specify ki gayi keys ko ek default value ke sath set kar sakte hain. Ismein aap ek iterable (jaise ki list, tuple, ya string) se keys lete hain aur unko ek default value ke sath ek naye dictionary mein daal dete hain.\n",
    "\n",
    "keys = ['a', 'b', 'c']\n",
    "default_value = 0\n",
    "my_dict = dict.fromkeys(keys, default_value)"
   ]
  },
  {
   "cell_type": "code",
   "execution_count": 98,
   "id": "5c36ba61-a933-43a6-ae2c-bec2077c79e4",
   "metadata": {},
   "outputs": [],
   "source": [
    "customers = [\n",
    "    {\"customer id\": 0,\n",
    "     \"first name\":\"John\",\n",
    "     \"last name\": \"Ogden\",\n",
    "     \"address\": \"301 Arbor Rd.\"},\n",
    "    {\"customer id\": 1,\n",
    "     \"first name\":\"Ann\",\n",
    "     \"last name\": \"Sattermyer\",\n",
    "     \"address\": \"PO Box 1145\"}]"
   ]
  },
  {
   "cell_type": "code",
   "execution_count": 99,
   "id": "a3a8528c-b4d1-43f2-b0fc-464327092772",
   "metadata": {},
   "outputs": [
    {
     "data": {
      "text/plain": [
       "list"
      ]
     },
     "execution_count": 99,
     "metadata": {},
     "output_type": "execute_result"
    }
   ],
   "source": [
    "type(customers)"
   ]
  },
  {
   "cell_type": "code",
   "execution_count": 101,
   "id": "fd6cc699-361c-4789-a9a8-6190bc562bab",
   "metadata": {},
   "outputs": [
    {
     "data": {
      "text/plain": [
       "'Sattermyer'"
      ]
     },
     "execution_count": 101,
     "metadata": {},
     "output_type": "execute_result"
    }
   ],
   "source": [
    "customers[1][\"last name\"]"
   ]
  },
  {
   "cell_type": "code",
   "execution_count": 103,
   "id": "1bcc0aea-be2c-49ec-972e-4d163937e59b",
   "metadata": {},
   "outputs": [],
   "source": [
    "customers_data_in_dct = {\n",
    "    \"Name\" : [\"Muzammil\", \"Salman\"],\n",
    "    \"Number\" : [\"03192025919\", \"03202485046\"],\n",
    "    \"Age\" : [24, 23]}"
   ]
  },
  {
   "cell_type": "code",
   "execution_count": 105,
   "id": "8a83dc4b-a9a0-4970-86a9-203a3ddc44a4",
   "metadata": {},
   "outputs": [
    {
     "data": {
      "text/plain": [
       "'Salman'"
      ]
     },
     "execution_count": 105,
     "metadata": {},
     "output_type": "execute_result"
    }
   ],
   "source": [
    "customers_data_in_dct[\"Name\"][1]"
   ]
  }
 ],
 "metadata": {
  "kernelspec": {
   "display_name": "Python 3 (ipykernel)",
   "language": "python",
   "name": "python3"
  },
  "language_info": {
   "codemirror_mode": {
    "name": "ipython",
    "version": 3
   },
   "file_extension": ".py",
   "mimetype": "text/x-python",
   "name": "python",
   "nbconvert_exporter": "python",
   "pygments_lexer": "ipython3",
   "version": "3.11.5"
  }
 },
 "nbformat": 4,
 "nbformat_minor": 5
}
