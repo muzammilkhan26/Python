{
 "cells": [
  {
   "cell_type": "markdown",
   "id": "2c970d58",
   "metadata": {},
   "source": [
    "# if statements"
   ]
  },
  {
   "cell_type": "code",
   "execution_count": 4,
   "id": "fb87fd7c",
   "metadata": {},
   "outputs": [],
   "source": [
    "chutti = False"
   ]
  },
  {
   "cell_type": "code",
   "execution_count": 9,
   "id": "3e131f0c",
   "metadata": {},
   "outputs": [
    {
     "name": "stdout",
     "output_type": "stream",
     "text": [
      "today is off, Happy New Year\n"
     ]
    }
   ],
   "source": [
    "if chutti:\n",
    "    print(\"today is off, Happy New Year\")"
   ]
  },
  {
   "cell_type": "code",
   "execution_count": 7,
   "id": "78bcf14f",
   "metadata": {},
   "outputs": [],
   "source": [
    "chutti = True"
   ]
  },
  {
   "cell_type": "code",
   "execution_count": 8,
   "id": "eca56a4a",
   "metadata": {},
   "outputs": [
    {
     "name": "stdout",
     "output_type": "stream",
     "text": [
      "today is off, Happy New Year\n"
     ]
    }
   ],
   "source": [
    "if chutti:\n",
    "    print(\"today is off, Happy New Year\")"
   ]
  },
  {
   "cell_type": "code",
   "execution_count": 14,
   "id": "2dadbaae",
   "metadata": {},
   "outputs": [],
   "source": [
    "chutti = True"
   ]
  },
  {
   "cell_type": "code",
   "execution_count": 11,
   "id": "01ca10da",
   "metadata": {},
   "outputs": [
    {
     "name": "stdout",
     "output_type": "stream",
     "text": [
      "Out of Body\n"
     ]
    }
   ],
   "source": [
    "if chutti:\n",
    "    print(\"today is off, Happy New Year\")\n",
    "    \n",
    "print(\"Out of Body\")"
   ]
  },
  {
   "cell_type": "code",
   "execution_count": 12,
   "id": "b77303b1",
   "metadata": {},
   "outputs": [],
   "source": [
    "if chutti:\n",
    "    print(\"today is off, Happy New Year\")"
   ]
  },
  {
   "cell_type": "code",
   "execution_count": 15,
   "id": "6aeb82df",
   "metadata": {},
   "outputs": [
    {
     "name": "stdout",
     "output_type": "stream",
     "text": [
      "today is off, Happy New Year\n"
     ]
    }
   ],
   "source": [
    "if chutti:\n",
    "    print(\"today is off, Happy New Year\")\n",
    "else:\n",
    "    print(\"today is on\")"
   ]
  },
  {
   "cell_type": "code",
   "execution_count": 26,
   "id": "40f1bdf4",
   "metadata": {},
   "outputs": [],
   "source": [
    "num = 3"
   ]
  },
  {
   "cell_type": "code",
   "execution_count": 27,
   "id": "54ba4e19",
   "metadata": {},
   "outputs": [
    {
     "name": "stdout",
     "output_type": "stream",
     "text": [
      "Number is odd\n"
     ]
    }
   ],
   "source": [
    "if num%2 == 0:\n",
    "    print(\"Number is even\")\n",
    "else:\n",
    "    print(\"Number is odd\")"
   ]
  },
  {
   "cell_type": "code",
   "execution_count": 38,
   "id": "5f82c8f4",
   "metadata": {},
   "outputs": [],
   "source": [
    "country = \"turkey\"\n",
    "height = 3"
   ]
  },
  {
   "cell_type": "code",
   "execution_count": 39,
   "id": "9c564b4c",
   "metadata": {},
   "outputs": [
    {
     "name": "stdout",
     "output_type": "stream",
     "text": [
      "Happy c\n",
      "Not Happy\n"
     ]
    }
   ],
   "source": [
    "if country != \"Pakistan\":\n",
    "    print(\"Happy c\")\n",
    "    if height < 5:\n",
    "        print(\"Not Happy\")\n",
    "    else:\n",
    "        print(\"Happy\")\n",
    "else:\n",
    "    print(\"Sad c\")"
   ]
  },
  {
   "cell_type": "code",
   "execution_count": null,
   "id": "c831b6d3",
   "metadata": {},
   "outputs": [],
   "source": [
    "1 if species == \"cat\":\n",
    "2\n",
    "print(\"Yep, it's cat.\")\n",
    "3 if species != \"cat\":\n",
    "4\n",
    "print(\"Nope, not cat.\")country = input(\"Enter Country of Girl:\")\n",
    "\n",
    "if country != \"Pakistan\":\n",
    "    print(\"Happy c\")\n",
    "    height = int(input(\"Enter Height of Girl\"))\n",
    "    if height < 5:\n",
    "        print(\"Not Happy\")\n",
    "    else:\n",
    "        print(\"Happy\")\n",
    "else:\n",
    "    print(\"Sad c\")"
   ]
  },
  {
   "cell_type": "code",
   "execution_count": null,
   "id": "d8d576d2",
   "metadata": {},
   "outputs": [],
   "source": [
    "country = input(\"Enter Country of Girl:\")\n",
    "\n",
    "if country != \"Pakistan\":\n",
    "    print(\"Happy c\")\n",
    "    height = int(input(\"Enter Height of Girl\"))\n",
    "    if height < 5:\n",
    "        print(\"Not Happy\")\n",
    "    else:\n",
    "        print(\"Happy\")\n",
    "else:\n",
    "    print(\"Sad c\")"
   ]
  },
  {
   "cell_type": "code",
   "execution_count": 3,
   "id": "5e28d545",
   "metadata": {},
   "outputs": [
    {
     "name": "stdout",
     "output_type": "stream",
     "text": [
      "Everything makes sense.\n"
     ]
    }
   ],
   "source": [
    "if 2 + 2 == 4:\n",
    "    print(\"Everything makes sense.\")lspci | grep -i nvidia\n"
   ]
  },
  {
   "cell_type": "code",
   "execution_count": 6,
   "id": "a25db66f",
   "metadata": {},
   "outputs": [
    {
     "name": "stdout",
     "output_type": "stream",
     "text": [
      "Yep, it's cat.\n"
     ]
    }
   ],
   "source": [
    "species = \"cat\"\n",
    "if species == \"cat\":\n",
    "    print(\"Yep, it's cat.\")\n",
    "else:\n",
    "    print(\"Nope, not cat.\")"
   ]
  },
  {
   "cell_type": "code",
   "execution_count": 11,
   "id": "2adced00",
   "metadata": {},
   "outputs": [
    {
     "name": "stdout",
     "output_type": "stream",
     "text": [
      "50\n",
      "C\n"
     ]
    }
   ],
   "source": [
    "grade = int(input())\n",
    "if grade >= 80:\n",
    "    print(\"A\")\n",
    "elif grade >= 60:\n",
    "    print(\"B\")\n",
    "elif grade >= 40:\n",
    "    print(\"C\")\n",
    "else:\n",
    "    print(\"Fail\")"
   ]
  },
  {
   "cell_type": "code",
   "execution_count": null,
   "id": "602b4bf8",
   "metadata": {},
   "outputs": [],
   "source": []
  }
 ],
 "metadata": {
  "kernelspec": {
   "display_name": "Python 3 (ipykernel)",
   "language": "python",
   "name": "python3"
  },
  "language_info": {
   "codemirror_mode": {
    "name": "ipython",
    "version": 3
   },
   "file_extension": ".py",
   "mimetype": "text/x-python",
   "name": "python",
   "nbconvert_exporter": "python",
   "pygments_lexer": "ipython3",
   "version": "3.11.7"
  }
 },
 "nbformat": 4,
 "nbformat_minor": 5
}
